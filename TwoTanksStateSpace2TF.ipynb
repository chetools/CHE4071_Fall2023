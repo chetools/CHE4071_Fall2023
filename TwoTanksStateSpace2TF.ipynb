{
  "nbformat": 4,
  "nbformat_minor": 0,
  "metadata": {
    "colab": {
      "provenance": [],
      "authorship_tag": "ABX9TyMr3RRM2TDDIHFEJ4eyoKv/",
      "include_colab_link": true
    },
    "kernelspec": {
      "name": "python3",
      "display_name": "Python 3"
    },
    "language_info": {
      "name": "python"
    }
  },
  "cells": [
    {
      "cell_type": "markdown",
      "metadata": {
        "id": "view-in-github",
        "colab_type": "text"
      },
      "source": [
        "<a href=\"https://colab.research.google.com/github/profteachkids/CHE4071_Fall2023/blob/main/TwoTanksStateSpace2TF.ipynb\" target=\"_parent\"><img src=\"https://colab.research.google.com/assets/colab-badge.svg\" alt=\"Open In Colab\"/></a>"
      ]
    },
    {
      "cell_type": "code",
      "execution_count": 42,
      "metadata": {
        "id": "NK-sfvuivNOA"
      },
      "outputs": [],
      "source": [
        "import numpy as np\n",
        "import jax\n",
        "jax.config.update('jax_enable_x64',True)\n",
        "import jax.numpy as jnp\n",
        "from plotly.subplots import make_subplots\n",
        "from scipy.optimize import root\n",
        "import scipy.signal as sig\n",
        "from scipy.integrate import solve_ivp"
      ]
    },
    {
      "cell_type": "code",
      "source": [
        "alpha = 2.\n",
        "Ac=2.\n",
        "\n",
        "u_initial = jnp.array([2., 0.5, 0.4])\n",
        "\n",
        "def rhs(t, h, u):\n",
        "    h1, h2 = h\n",
        "    u1, u2, u3 = u\n",
        "\n",
        "    q1 = alpha * h1**0.5\n",
        "    q2 = alpha * h2**0.5\n",
        "\n",
        "    return jnp.array([(u1+u2-q1)/Ac, (q1+u3-q2)/Ac])\n",
        "\n",
        "\n"
      ],
      "metadata": {
        "id": "Uaj2NP-kwTys"
      },
      "execution_count": 7,
      "outputs": []
    },
    {
      "cell_type": "code",
      "source": [
        "h_initial = root(lambda x: rhs(0., x, u_initial), [1., 1.]).x"
      ],
      "metadata": {
        "id": "wEEwPyEezq7E"
      },
      "execution_count": 9,
      "outputs": []
    },
    {
      "cell_type": "code",
      "source": [
        "Jh_func = jax.jacobian(rhs, 1)\n",
        "Jh =Jh_func(0., h_initial, u_initial)\n",
        "Jh"
      ],
      "metadata": {
        "colab": {
          "base_uri": "https://localhost:8080/"
        },
        "id": "2mVDhpqw1Qyh",
        "outputId": "83bb1f6b-a223-4f9b-8cdb-1e8bea7098d4"
      },
      "execution_count": 14,
      "outputs": [
        {
          "output_type": "execute_result",
          "data": {
            "text/plain": [
              "Array([[-0.4       ,  0.        ],\n",
              "       [ 0.4       , -0.34482759]], dtype=float64)"
            ]
          },
          "metadata": {},
          "execution_count": 14
        }
      ]
    },
    {
      "cell_type": "code",
      "source": [
        "Ju_func = jax.jacobian(rhs, 2)\n",
        "Ju = Ju_func(0., h_initial, u_initial)\n",
        "Ju"
      ],
      "metadata": {
        "colab": {
          "base_uri": "https://localhost:8080/"
        },
        "id": "urVJfPx71f4r",
        "outputId": "59a1344f-4c1f-4e19-bc42-27dda8c3dff3"
      },
      "execution_count": 16,
      "outputs": [
        {
          "output_type": "execute_result",
          "data": {
            "text/plain": [
              "Array([[0.5, 0.5, 0. ],\n",
              "       [0. , 0. , 0.5]], dtype=float64)"
            ]
          },
          "metadata": {},
          "execution_count": 16
        }
      ]
    },
    {
      "cell_type": "code",
      "source": [
        "ltisys = sig.StateSpace(Jh, Ju, np.array([[0, 1.]]), np.array([[0.,0.,0.]]))\n",
        "ltisys"
      ],
      "metadata": {
        "colab": {
          "base_uri": "https://localhost:8080/"
        },
        "id": "uqiPIUWO5wWH",
        "outputId": "0d71e400-bc30-4c02-c7eb-d7d9aef1ff3b"
      },
      "execution_count": 24,
      "outputs": [
        {
          "output_type": "execute_result",
          "data": {
            "text/plain": [
              "StateSpaceContinuous(\n",
              "array([[-0.4       ,  0.        ],\n",
              "       [ 0.4       , -0.34482759]]),\n",
              "array([[0.5, 0.5, 0. ],\n",
              "       [0. , 0. , 0.5]]),\n",
              "array([[0., 1.]]),\n",
              "array([[0., 0., 0.]]),\n",
              "dt: None\n",
              ")"
            ]
          },
          "metadata": {},
          "execution_count": 24
        }
      ]
    },
    {
      "cell_type": "code",
      "source": [
        "num, den = sig.ss2tf(Jh, Ju, np.array([[0, 1.]]), np.array([[0.,0.,0.]]),input =2 )\n",
        "H2_U3TF= sig.TransferFunction(num, den)\n"
      ],
      "metadata": {
        "colab": {
          "base_uri": "https://localhost:8080/"
        },
        "id": "BJ2P57W48HTd",
        "outputId": "e9eca27d-19bb-429f-82c0-7da4c3c1cc42"
      },
      "execution_count": 37,
      "outputs": [
        {
          "output_type": "stream",
          "name": "stderr",
          "text": [
            "/usr/local/lib/python3.10/dist-packages/scipy/signal/_filter_design.py:1746: BadCoefficients: Badly conditioned filter coefficients (numerator): the results may be meaningless\n",
            "  warnings.warn(\"Badly conditioned filter coefficients (numerator): the \"\n"
          ]
        }
      ]
    },
    {
      "cell_type": "code",
      "source": [
        "t, h2dev = H2_U3TF."
      ],
      "metadata": {
        "id": "PMRJChzpB03j"
      },
      "execution_count": 39,
      "outputs": []
    },
    {
      "cell_type": "code",
      "source": [
        "fig = make_subplots()\n",
        "fig.add_scatter(x=t, y=h2dev + h_initial[1])"
      ],
      "metadata": {
        "colab": {
          "base_uri": "https://localhost:8080/",
          "height": 542
        },
        "id": "P3Ky8Ac_CYXf",
        "outputId": "859a993e-2932-41b3-c100-b080d61be36c"
      },
      "execution_count": 40,
      "outputs": [
        {
          "output_type": "display_data",
          "data": {
            "text/html": [
              "<html>\n",
              "<head><meta charset=\"utf-8\" /></head>\n",
              "<body>\n",
              "    <div>            <script src=\"https://cdnjs.cloudflare.com/ajax/libs/mathjax/2.7.5/MathJax.js?config=TeX-AMS-MML_SVG\"></script><script type=\"text/javascript\">if (window.MathJax && window.MathJax.Hub && window.MathJax.Hub.Config) {window.MathJax.Hub.Config({SVG: {font: \"STIX-Web\"}});}</script>                <script type=\"text/javascript\">window.PlotlyConfig = {MathJaxConfig: 'local'};</script>\n",
              "        <script charset=\"utf-8\" src=\"https://cdn.plot.ly/plotly-2.24.1.min.js\"></script>                <div id=\"47cd6f8a-816e-4dfe-9eaf-96ef70e8b54b\" class=\"plotly-graph-div\" style=\"height:525px; width:100%;\"></div>            <script type=\"text/javascript\">                                    window.PLOTLYENV=window.PLOTLYENV || {};                                    if (document.getElementById(\"47cd6f8a-816e-4dfe-9eaf-96ef70e8b54b\")) {                    Plotly.newPlot(                        \"47cd6f8a-816e-4dfe-9eaf-96ef70e8b54b\",                        [{\"x\":[0.0,0.2050505050505219,0.4101010101010438,0.6151515151515656,0.8202020202020875,1.0252525252526095,1.2303030303031313,1.4353535353536533,1.640404040404175,1.845454545454697,2.050505050505219,2.2555555555557407,2.4606060606062625,2.6656565656567843,2.8707070707073066,3.0757575757578284,3.28080808080835,3.485858585858872,3.690909090909394,3.895959595959916,4.101010101010438,4.306060606060959,4.511111111111481,4.716161616162004,4.921212121212525,5.126262626263047,5.331313131313569,5.536363636364091,5.741414141414613,5.9464646464651345,6.151515151515657,6.356565656566178,6.5616161616167,6.766666666667223,6.971717171717744,7.176767676768266,7.381818181818788,7.58686868686931,7.791919191919832,7.996969696970353,8.202020202020876,8.407070707071398,8.612121212121918,8.81717171717244,9.022222222222963,9.227272727273485,9.432323232324007,9.637373737374528,9.84242424242505,10.047474747475572,10.252525252526095,10.457575757576617,10.662626262627137,10.86767676767766,11.072727272728182,11.277777777778704,11.482828282829226,11.687878787879747,11.892929292930269,12.097979797980791,12.303030303031314,12.508080808081836,12.713131313132356,12.918181818182878,13.1232323232334,13.328282828283923,13.533333333334445,13.738383838384966,13.943434343435488,14.14848484848601,14.353535353536532,14.558585858587055,14.763636363637575,14.968686868688097,15.17373737373862,15.378787878789142,15.583838383839664,15.788888888890185,15.993939393940707,16.19898989899123,16.40404040404175,16.609090909092274,16.814141414142796,17.019191919193318,17.224242424243837,17.42929292929436,17.63434343434488,17.839393939395404,18.044444444445926,18.249494949496448,18.45454545454697,18.659595959597493,18.864646464648015,19.069696969698537,19.274747474749056,19.479797979799578,19.6848484848501,19.889898989900622,20.094949494951145,20.300000000001667],\"y\":[2.1025000000003424,2.2014845623764794,2.2937119222775855,2.3796433615863353,2.4597086726783073,2.534308308059971,2.603815383261171,2.668577542999725,2.728918699951898,2.7851406548253257,2.837524605837321,2.886332555148313,2.931808619284805,2.974180250106029,3.0136593724210443,3.0504434439461665,3.084716442904167,3.116649788204805,3.146403196809037,3.1741254825650698,3.199955300511705,3.2240218403716483,3.246445472703355,3.2673383509431733,3.28680497234896,3.3049427006507512,3.321842253022577,3.337588153811039,3.3522591572900087,3.365928641555885,3.37866497553351,3.3905318609283412,3.4015886508351887,3.4118906465970618,3.4214893743988726,3.4304328429794215,3.438765783750612,3.4465298745248765,3.453763947969803,3.460504185832563,3.4667842999055596,3.4726357006384263,3.4780876542396864,3.4831674290538324,3.4879004319459455,3.492310335375989,3.4964191957983473,3.5002475639787938,3.5038145877806497,3.507138107934222,3.5102347472685187,3.5131199938515447,3.5158082784550064,3.5183130467308708,3.520646826460777,3.52282129021465,3.524847313731917,3.5267350303173073,3.528493881523322,3.5301326643728457,3.531659575358101,3.533082251436002,3.5344078082249557,3.535642875594144,3.5367936308233023,3.5378658294988323,3.5388648343007922,3.5397956418247283,3.540662907572518,3.5414709692371975,3.5422238683982554,3.542925370735886,3.5435789848653116,3.544187979885383,3.5447554017292124,3.545284088398632,3.545776684158668,3.5462356527630243,3.5466632897767276,3.5470617340575634,3.547432978453731,3.547778879771216,3.548101168060745,3.5484014552707577,3.548681243309688,3.548941931557865,3.54918482386662,3.549411135079591,3.5496219971088543,3.549818464596263,3.550001520188319,3.5501720794509466,3.5503309954487676,3.5504790630117613,3.5506170227106693,3.55074556456101,3.5508653314742453,3.550976922473347,3.5510808956888544,3.5511777711504067],\"type\":\"scatter\"}],                        {\"template\":{\"data\":{\"histogram2dcontour\":[{\"type\":\"histogram2dcontour\",\"colorbar\":{\"outlinewidth\":0,\"ticks\":\"\"},\"colorscale\":[[0.0,\"#0d0887\"],[0.1111111111111111,\"#46039f\"],[0.2222222222222222,\"#7201a8\"],[0.3333333333333333,\"#9c179e\"],[0.4444444444444444,\"#bd3786\"],[0.5555555555555556,\"#d8576b\"],[0.6666666666666666,\"#ed7953\"],[0.7777777777777778,\"#fb9f3a\"],[0.8888888888888888,\"#fdca26\"],[1.0,\"#f0f921\"]]}],\"choropleth\":[{\"type\":\"choropleth\",\"colorbar\":{\"outlinewidth\":0,\"ticks\":\"\"}}],\"histogram2d\":[{\"type\":\"histogram2d\",\"colorbar\":{\"outlinewidth\":0,\"ticks\":\"\"},\"colorscale\":[[0.0,\"#0d0887\"],[0.1111111111111111,\"#46039f\"],[0.2222222222222222,\"#7201a8\"],[0.3333333333333333,\"#9c179e\"],[0.4444444444444444,\"#bd3786\"],[0.5555555555555556,\"#d8576b\"],[0.6666666666666666,\"#ed7953\"],[0.7777777777777778,\"#fb9f3a\"],[0.8888888888888888,\"#fdca26\"],[1.0,\"#f0f921\"]]}],\"heatmap\":[{\"type\":\"heatmap\",\"colorbar\":{\"outlinewidth\":0,\"ticks\":\"\"},\"colorscale\":[[0.0,\"#0d0887\"],[0.1111111111111111,\"#46039f\"],[0.2222222222222222,\"#7201a8\"],[0.3333333333333333,\"#9c179e\"],[0.4444444444444444,\"#bd3786\"],[0.5555555555555556,\"#d8576b\"],[0.6666666666666666,\"#ed7953\"],[0.7777777777777778,\"#fb9f3a\"],[0.8888888888888888,\"#fdca26\"],[1.0,\"#f0f921\"]]}],\"heatmapgl\":[{\"type\":\"heatmapgl\",\"colorbar\":{\"outlinewidth\":0,\"ticks\":\"\"},\"colorscale\":[[0.0,\"#0d0887\"],[0.1111111111111111,\"#46039f\"],[0.2222222222222222,\"#7201a8\"],[0.3333333333333333,\"#9c179e\"],[0.4444444444444444,\"#bd3786\"],[0.5555555555555556,\"#d8576b\"],[0.6666666666666666,\"#ed7953\"],[0.7777777777777778,\"#fb9f3a\"],[0.8888888888888888,\"#fdca26\"],[1.0,\"#f0f921\"]]}],\"contourcarpet\":[{\"type\":\"contourcarpet\",\"colorbar\":{\"outlinewidth\":0,\"ticks\":\"\"}}],\"contour\":[{\"type\":\"contour\",\"colorbar\":{\"outlinewidth\":0,\"ticks\":\"\"},\"colorscale\":[[0.0,\"#0d0887\"],[0.1111111111111111,\"#46039f\"],[0.2222222222222222,\"#7201a8\"],[0.3333333333333333,\"#9c179e\"],[0.4444444444444444,\"#bd3786\"],[0.5555555555555556,\"#d8576b\"],[0.6666666666666666,\"#ed7953\"],[0.7777777777777778,\"#fb9f3a\"],[0.8888888888888888,\"#fdca26\"],[1.0,\"#f0f921\"]]}],\"surface\":[{\"type\":\"surface\",\"colorbar\":{\"outlinewidth\":0,\"ticks\":\"\"},\"colorscale\":[[0.0,\"#0d0887\"],[0.1111111111111111,\"#46039f\"],[0.2222222222222222,\"#7201a8\"],[0.3333333333333333,\"#9c179e\"],[0.4444444444444444,\"#bd3786\"],[0.5555555555555556,\"#d8576b\"],[0.6666666666666666,\"#ed7953\"],[0.7777777777777778,\"#fb9f3a\"],[0.8888888888888888,\"#fdca26\"],[1.0,\"#f0f921\"]]}],\"mesh3d\":[{\"type\":\"mesh3d\",\"colorbar\":{\"outlinewidth\":0,\"ticks\":\"\"}}],\"scatter\":[{\"fillpattern\":{\"fillmode\":\"overlay\",\"size\":10,\"solidity\":0.2},\"type\":\"scatter\"}],\"parcoords\":[{\"type\":\"parcoords\",\"line\":{\"colorbar\":{\"outlinewidth\":0,\"ticks\":\"\"}}}],\"scatterpolargl\":[{\"type\":\"scatterpolargl\",\"marker\":{\"colorbar\":{\"outlinewidth\":0,\"ticks\":\"\"}}}],\"bar\":[{\"error_x\":{\"color\":\"#2a3f5f\"},\"error_y\":{\"color\":\"#2a3f5f\"},\"marker\":{\"line\":{\"color\":\"#E5ECF6\",\"width\":0.5},\"pattern\":{\"fillmode\":\"overlay\",\"size\":10,\"solidity\":0.2}},\"type\":\"bar\"}],\"scattergeo\":[{\"type\":\"scattergeo\",\"marker\":{\"colorbar\":{\"outlinewidth\":0,\"ticks\":\"\"}}}],\"scatterpolar\":[{\"type\":\"scatterpolar\",\"marker\":{\"colorbar\":{\"outlinewidth\":0,\"ticks\":\"\"}}}],\"histogram\":[{\"marker\":{\"pattern\":{\"fillmode\":\"overlay\",\"size\":10,\"solidity\":0.2}},\"type\":\"histogram\"}],\"scattergl\":[{\"type\":\"scattergl\",\"marker\":{\"colorbar\":{\"outlinewidth\":0,\"ticks\":\"\"}}}],\"scatter3d\":[{\"type\":\"scatter3d\",\"line\":{\"colorbar\":{\"outlinewidth\":0,\"ticks\":\"\"}},\"marker\":{\"colorbar\":{\"outlinewidth\":0,\"ticks\":\"\"}}}],\"scattermapbox\":[{\"type\":\"scattermapbox\",\"marker\":{\"colorbar\":{\"outlinewidth\":0,\"ticks\":\"\"}}}],\"scatterternary\":[{\"type\":\"scatterternary\",\"marker\":{\"colorbar\":{\"outlinewidth\":0,\"ticks\":\"\"}}}],\"scattercarpet\":[{\"type\":\"scattercarpet\",\"marker\":{\"colorbar\":{\"outlinewidth\":0,\"ticks\":\"\"}}}],\"carpet\":[{\"aaxis\":{\"endlinecolor\":\"#2a3f5f\",\"gridcolor\":\"white\",\"linecolor\":\"white\",\"minorgridcolor\":\"white\",\"startlinecolor\":\"#2a3f5f\"},\"baxis\":{\"endlinecolor\":\"#2a3f5f\",\"gridcolor\":\"white\",\"linecolor\":\"white\",\"minorgridcolor\":\"white\",\"startlinecolor\":\"#2a3f5f\"},\"type\":\"carpet\"}],\"table\":[{\"cells\":{\"fill\":{\"color\":\"#EBF0F8\"},\"line\":{\"color\":\"white\"}},\"header\":{\"fill\":{\"color\":\"#C8D4E3\"},\"line\":{\"color\":\"white\"}},\"type\":\"table\"}],\"barpolar\":[{\"marker\":{\"line\":{\"color\":\"#E5ECF6\",\"width\":0.5},\"pattern\":{\"fillmode\":\"overlay\",\"size\":10,\"solidity\":0.2}},\"type\":\"barpolar\"}],\"pie\":[{\"automargin\":true,\"type\":\"pie\"}]},\"layout\":{\"autotypenumbers\":\"strict\",\"colorway\":[\"#636efa\",\"#EF553B\",\"#00cc96\",\"#ab63fa\",\"#FFA15A\",\"#19d3f3\",\"#FF6692\",\"#B6E880\",\"#FF97FF\",\"#FECB52\"],\"font\":{\"color\":\"#2a3f5f\"},\"hovermode\":\"closest\",\"hoverlabel\":{\"align\":\"left\"},\"paper_bgcolor\":\"white\",\"plot_bgcolor\":\"#E5ECF6\",\"polar\":{\"bgcolor\":\"#E5ECF6\",\"angularaxis\":{\"gridcolor\":\"white\",\"linecolor\":\"white\",\"ticks\":\"\"},\"radialaxis\":{\"gridcolor\":\"white\",\"linecolor\":\"white\",\"ticks\":\"\"}},\"ternary\":{\"bgcolor\":\"#E5ECF6\",\"aaxis\":{\"gridcolor\":\"white\",\"linecolor\":\"white\",\"ticks\":\"\"},\"baxis\":{\"gridcolor\":\"white\",\"linecolor\":\"white\",\"ticks\":\"\"},\"caxis\":{\"gridcolor\":\"white\",\"linecolor\":\"white\",\"ticks\":\"\"}},\"coloraxis\":{\"colorbar\":{\"outlinewidth\":0,\"ticks\":\"\"}},\"colorscale\":{\"sequential\":[[0.0,\"#0d0887\"],[0.1111111111111111,\"#46039f\"],[0.2222222222222222,\"#7201a8\"],[0.3333333333333333,\"#9c179e\"],[0.4444444444444444,\"#bd3786\"],[0.5555555555555556,\"#d8576b\"],[0.6666666666666666,\"#ed7953\"],[0.7777777777777778,\"#fb9f3a\"],[0.8888888888888888,\"#fdca26\"],[1.0,\"#f0f921\"]],\"sequentialminus\":[[0.0,\"#0d0887\"],[0.1111111111111111,\"#46039f\"],[0.2222222222222222,\"#7201a8\"],[0.3333333333333333,\"#9c179e\"],[0.4444444444444444,\"#bd3786\"],[0.5555555555555556,\"#d8576b\"],[0.6666666666666666,\"#ed7953\"],[0.7777777777777778,\"#fb9f3a\"],[0.8888888888888888,\"#fdca26\"],[1.0,\"#f0f921\"]],\"diverging\":[[0,\"#8e0152\"],[0.1,\"#c51b7d\"],[0.2,\"#de77ae\"],[0.3,\"#f1b6da\"],[0.4,\"#fde0ef\"],[0.5,\"#f7f7f7\"],[0.6,\"#e6f5d0\"],[0.7,\"#b8e186\"],[0.8,\"#7fbc41\"],[0.9,\"#4d9221\"],[1,\"#276419\"]]},\"xaxis\":{\"gridcolor\":\"white\",\"linecolor\":\"white\",\"ticks\":\"\",\"title\":{\"standoff\":15},\"zerolinecolor\":\"white\",\"automargin\":true,\"zerolinewidth\":2},\"yaxis\":{\"gridcolor\":\"white\",\"linecolor\":\"white\",\"ticks\":\"\",\"title\":{\"standoff\":15},\"zerolinecolor\":\"white\",\"automargin\":true,\"zerolinewidth\":2},\"scene\":{\"xaxis\":{\"backgroundcolor\":\"#E5ECF6\",\"gridcolor\":\"white\",\"linecolor\":\"white\",\"showbackground\":true,\"ticks\":\"\",\"zerolinecolor\":\"white\",\"gridwidth\":2},\"yaxis\":{\"backgroundcolor\":\"#E5ECF6\",\"gridcolor\":\"white\",\"linecolor\":\"white\",\"showbackground\":true,\"ticks\":\"\",\"zerolinecolor\":\"white\",\"gridwidth\":2},\"zaxis\":{\"backgroundcolor\":\"#E5ECF6\",\"gridcolor\":\"white\",\"linecolor\":\"white\",\"showbackground\":true,\"ticks\":\"\",\"zerolinecolor\":\"white\",\"gridwidth\":2}},\"shapedefaults\":{\"line\":{\"color\":\"#2a3f5f\"}},\"annotationdefaults\":{\"arrowcolor\":\"#2a3f5f\",\"arrowhead\":0,\"arrowwidth\":1},\"geo\":{\"bgcolor\":\"white\",\"landcolor\":\"#E5ECF6\",\"subunitcolor\":\"white\",\"showland\":true,\"showlakes\":true,\"lakecolor\":\"white\"},\"title\":{\"x\":0.05},\"mapbox\":{\"style\":\"light\"}}},\"xaxis\":{\"anchor\":\"y\",\"domain\":[0.0,1.0]},\"yaxis\":{\"anchor\":\"x\",\"domain\":[0.0,1.0]}},                        {\"responsive\": true}                    ).then(function(){\n",
              "                            \n",
              "var gd = document.getElementById('47cd6f8a-816e-4dfe-9eaf-96ef70e8b54b');\n",
              "var x = new MutationObserver(function (mutations, observer) {{\n",
              "        var display = window.getComputedStyle(gd).display;\n",
              "        if (!display || display === 'none') {{\n",
              "            console.log([gd, 'removed!']);\n",
              "            Plotly.purge(gd);\n",
              "            observer.disconnect();\n",
              "        }}\n",
              "}});\n",
              "\n",
              "// Listen for the removal of the full notebook cells\n",
              "var notebookContainer = gd.closest('#notebook-container');\n",
              "if (notebookContainer) {{\n",
              "    x.observe(notebookContainer, {childList: true});\n",
              "}}\n",
              "\n",
              "// Listen for the clearing of the current output cell\n",
              "var outputEl = gd.closest('.output');\n",
              "if (outputEl) {{\n",
              "    x.observe(outputEl, {childList: true});\n",
              "}}\n",
              "\n",
              "                        })                };                            </script>        </div>\n",
              "</body>\n",
              "</html>"
            ]
          },
          "metadata": {}
        }
      ]
    },
    {
      "cell_type": "code",
      "source": [
        "res = solve_ivp(lambda t, h: rhs(t,h, u_initial + np.array([0,0,1.])), (0,20), h_initial, method='Radau',dense_output=True)"
      ],
      "metadata": {
        "id": "Ths51WKdCndG"
      },
      "execution_count": 46,
      "outputs": []
    },
    {
      "cell_type": "code",
      "source": [
        "tplot = np.linspace(0,20, 100)\n",
        "res.sol(tplot)"
      ],
      "metadata": {
        "colab": {
          "base_uri": "https://localhost:8080/"
        },
        "id": "NeKs9sMeDqNI",
        "outputId": "806c03be-de61-42e2-cf6a-c2ccbce19db6"
      },
      "execution_count": 47,
      "outputs": [
        {
          "output_type": "execute_result",
          "data": {
            "text/plain": [
              "array([[1.5625    , 1.5625    , 1.5625    , 1.5625    , 1.5625    ,\n",
              "        1.5625    , 1.5625    , 1.5625    , 1.5625    , 1.5625    ,\n",
              "        1.5625    , 1.5625    , 1.5625    , 1.5625    , 1.5625    ,\n",
              "        1.5625    , 1.5625    , 1.5625    , 1.5625    , 1.5625    ,\n",
              "        1.5625    , 1.5625    , 1.5625    , 1.5625    , 1.5625    ,\n",
              "        1.5625    , 1.5625    , 1.5625    , 1.5625    , 1.5625    ,\n",
              "        1.5625    , 1.5625    , 1.5625    , 1.5625    , 1.5625    ,\n",
              "        1.5625    , 1.5625    , 1.5625    , 1.5625    , 1.5625    ,\n",
              "        1.5625    , 1.5625    , 1.5625    , 1.5625    , 1.5625    ,\n",
              "        1.5625    , 1.5625    , 1.5625    , 1.5625    , 1.5625    ,\n",
              "        1.5625    , 1.5625    , 1.5625    , 1.5625    , 1.5625    ,\n",
              "        1.5625    , 1.5625    , 1.5625    , 1.5625    , 1.5625    ,\n",
              "        1.5625    , 1.5625    , 1.5625    , 1.5625    , 1.5625    ,\n",
              "        1.5625    , 1.5625    , 1.5625    , 1.5625    , 1.5625    ,\n",
              "        1.5625    , 1.5625    , 1.5625    , 1.5625    , 1.5625    ,\n",
              "        1.5625    , 1.5625    , 1.5625    , 1.5625    , 1.5625    ,\n",
              "        1.5625    , 1.5625    , 1.5625    , 1.5625    , 1.5625    ,\n",
              "        1.5625    , 1.5625    , 1.5625    , 1.5625    , 1.5625    ,\n",
              "        1.5625    , 1.5625    , 1.5625    , 1.5625    , 1.5625    ,\n",
              "        1.5625    , 1.5625    , 1.5625    , 1.5625    , 1.5625    ],\n",
              "       [2.1025    , 2.2000761 , 2.29126466, 2.37656746, 2.4564339 ,\n",
              "        2.53125896, 2.60143248, 2.66748187, 2.72962725, 2.78808876,\n",
              "        2.84308653, 2.89484069, 2.94357137, 2.9894987 , 3.03284156,\n",
              "        3.07361957, 3.11222418, 3.14874941, 3.18328929, 3.21593786,\n",
              "        3.24678914, 3.27593715, 3.30347594, 3.32949952, 3.35410194,\n",
              "        3.3773772 , 3.39941936, 3.42024865, 3.43991929, 3.45861431,\n",
              "        3.47636991, 3.49322228, 3.50920758, 3.52436201, 3.53872175,\n",
              "        3.55232298, 3.56520188, 3.57739464, 3.58893744, 3.59986645,\n",
              "        3.61021788, 3.62002788, 3.62933266, 3.63816838, 3.64657124,\n",
              "        3.65443487, 3.66190006, 3.66901873, 3.67580185, 3.68226035,\n",
              "        3.68840517, 3.69424727, 3.69979759, 3.70506707, 3.71006666,\n",
              "        3.71480731, 3.71929995, 3.72355553, 3.727585  , 3.7313993 ,\n",
              "        3.73500938, 3.73842619, 3.74166065, 3.74472373, 3.74762637,\n",
              "        3.75037951, 3.75299409, 3.75548107, 3.75785138, 3.76008729,\n",
              "        3.76218855, 3.76419804, 3.7661183 , 3.76795189, 3.76970134,\n",
              "        3.7713692 , 3.77295803, 3.77447036, 3.77590874, 3.77727572,\n",
              "        3.77857384, 3.77980566, 3.78097372, 3.78208055, 3.78312872,\n",
              "        3.78412077, 3.78505924, 3.78594667, 3.78678563, 3.78757864,\n",
              "        3.78832827, 3.78903704, 3.78970752, 3.79034225, 3.79094377,\n",
              "        3.79151463, 3.79205738, 3.79257456, 3.79306871, 3.7935424 ]])"
            ]
          },
          "metadata": {},
          "execution_count": 47
        }
      ]
    },
    {
      "cell_type": "code",
      "source": [],
      "metadata": {
        "id": "d__dzVNrD3LA"
      },
      "execution_count": null,
      "outputs": []
    }
  ]
}