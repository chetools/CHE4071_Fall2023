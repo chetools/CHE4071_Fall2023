{
  "nbformat": 4,
  "nbformat_minor": 0,
  "metadata": {
    "colab": {
      "provenance": [],
      "authorship_tag": "ABX9TyOCc/Z6iTghSid3Tpci7QCB",
      "include_colab_link": true
    },
    "kernelspec": {
      "name": "python3",
      "display_name": "Python 3"
    },
    "language_info": {
      "name": "python"
    }
  },
  "cells": [
    {
      "cell_type": "markdown",
      "metadata": {
        "id": "view-in-github",
        "colab_type": "text"
      },
      "source": [
        "<a href=\"https://colab.research.google.com/github/profteachkids/CHE4071_Fall2023/blob/main/dynamic_distillation4071.ipynb\" target=\"_parent\"><img src=\"https://colab.research.google.com/assets/colab-badge.svg\" alt=\"Open In Colab\"/></a>"
      ]
    },
    {
      "cell_type": "code",
      "execution_count": 4,
      "metadata": {
        "id": "ywI5g-0r-fQY"
      },
      "outputs": [],
      "source": [
        "import numpy as np\n",
        "from plotly.subplots import make_subplots"
      ]
    },
    {
      "cell_type": "code",
      "source": [
        "alpha=2.\n",
        "tray_m = 1.\n",
        "reboiler_m = 5.\n",
        "condenser_m = 5.\n",
        "\n",
        "weir_constant = 0.1\n",
        "Kc = 10.\n",
        "\n",
        "F = 1.\n",
        "z = 0.6\n",
        "q = 0.6  #60mol% liquid\n",
        "\n",
        "D = 0.55\n",
        "R = 2.\n",
        "\n",
        "B = F-D\n",
        "\n",
        "\n",
        "V_rec = (R+1)*D  #Negligible vapor hold up, perfect control on reboiler boil up\n",
        "V_strip = V_rec - (1-q)*F\n"
      ],
      "metadata": {
        "id": "KGY77N1tRkP-"
      },
      "execution_count": 12,
      "outputs": []
    },
    {
      "cell_type": "code",
      "source": [
        "def rhs(t, vec):\n",
        "    m, x = np.split(vec,2)\n",
        "    y=x*alpha/(1-x + x*alpha)\n",
        "    dm = np.zeros_like(m)\n",
        "    L = np.zeros_like(m)\n",
        "    V = np.zeros_like(m)\n",
        "    V[:-1] = (R+1)*D\n",
        "    V[:NF] -= (1-q)*F\n",
        "\n",
        "\n",
        "    L[1:-1] = weir_constant*(m[1:-1]- tray_m)**1.5\n",
        "    L[-1] = R*D\n",
        "    L[0] = B + Kc*(m[0] - reboiler_m)\n",
        "\n",
        "\n",
        "    dm[1:-1] = L[2:] + V[:-2] - L[1:-1] - V[1:-1]\n"
      ],
      "metadata": {
        "id": "7C6k_PMbIVG1"
      },
      "execution_count": null,
      "outputs": []
    },
    {
      "cell_type": "code",
      "source": [],
      "metadata": {
        "id": "o2MjWabSj4Ao"
      },
      "execution_count": null,
      "outputs": []
    }
  ]
}