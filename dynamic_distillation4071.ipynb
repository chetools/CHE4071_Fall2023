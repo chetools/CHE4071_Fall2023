{
  "nbformat": 4,
  "nbformat_minor": 0,
  "metadata": {
    "colab": {
      "provenance": [],
      "authorship_tag": "ABX9TyOvoHVCFc+oaavgaJImQEFq",
      "include_colab_link": true
    },
    "kernelspec": {
      "name": "python3",
      "display_name": "Python 3"
    },
    "language_info": {
      "name": "python"
    }
  },
  "cells": [
    {
      "cell_type": "markdown",
      "metadata": {
        "id": "view-in-github",
        "colab_type": "text"
      },
      "source": [
        "<a href=\"https://colab.research.google.com/github/profteachkids/CHE4071_Fall2023/blob/main/dynamic_distillation4071.ipynb\" target=\"_parent\"><img src=\"https://colab.research.google.com/assets/colab-badge.svg\" alt=\"Open In Colab\"/></a>"
      ]
    },
    {
      "cell_type": "code",
      "execution_count": 3,
      "metadata": {
        "id": "ywI5g-0r-fQY"
      },
      "outputs": [],
      "source": [
        "import numpy as np\n",
        "from plotly.subplots import make_subplots"
      ]
    },
    {
      "cell_type": "code",
      "source": [
        "x= np.linspace(0,0.999,50)\n",
        "alpha = 5."
      ],
      "metadata": {
        "id": "gVtZrERpH6Ha"
      },
      "execution_count": 14,
      "outputs": []
    },
    {
      "cell_type": "code",
      "source": [
        "tray_m = 0.1\n",
        "reboiler_m = 0.5\n",
        "condenser_m = 0.5\n",
        "\n",
        "weir_constant = 0.1\n",
        "\n",
        "F = 1.\n",
        "z = 0.6\n",
        "q = 0.6  #60mol% liquid\n",
        "\n",
        "D = 0.55\n",
        "R = 2.\n",
        "\n",
        "\n",
        "V_rec = (R+1)*D  #Negligible vapor hold up, perfect control on reboiler boil up\n",
        "V_strip = V_rec - (1-q)*F\n",
        "\n",
        "\n",
        "\n",
        "\n",
        "m0 =\n",
        "x0 ="
      ],
      "metadata": {
        "id": "KGY77N1tRkP-"
      },
      "execution_count": null,
      "outputs": []
    },
    {
      "cell_type": "code",
      "source": [
        "def rhs(t, vec):\n",
        "    m, x = np.split(vec,2)\n",
        "    y=x*alpha/(1-x + x*alpha)"
      ],
      "metadata": {
        "id": "7C6k_PMbIVG1"
      },
      "execution_count": null,
      "outputs": []
    }
  ]
}