{
  "nbformat": 4,
  "nbformat_minor": 0,
  "metadata": {
    "colab": {
      "provenance": [],
      "authorship_tag": "ABX9TyPf5+eF7LDK8R+OhLSUdjCf",
      "include_colab_link": true
    },
    "kernelspec": {
      "name": "python3",
      "display_name": "Python 3"
    },
    "language_info": {
      "name": "python"
    }
  },
  "cells": [
    {
      "cell_type": "markdown",
      "metadata": {
        "id": "view-in-github",
        "colab_type": "text"
      },
      "source": [
        "<a href=\"https://colab.research.google.com/github/profteachkids/CHE4071_Fall2023/blob/main/StateSpace_TransferFunction.ipynb\" target=\"_parent\"><img src=\"https://colab.research.google.com/assets/colab-badge.svg\" alt=\"Open In Colab\"/></a>"
      ]
    },
    {
      "cell_type": "code",
      "execution_count": 8,
      "metadata": {
        "id": "ZXYBLF1ohfBZ"
      },
      "outputs": [],
      "source": [
        "import jax\n",
        "jax.config.update('jax_enable_x64',True)\n",
        "import jax.numpy as jnp\n",
        "import numpy as np\n",
        "from scipy.optimize import root"
      ]
    },
    {
      "cell_type": "code",
      "source": [
        "alpha1 = 1.5\n",
        "A1 = 2.\n",
        "vec_in = jnp.array([1.2])\n",
        "\n",
        "def rhs(t, vec_out, vec_in):\n",
        "    h1 = vec_out\n",
        "    q1 = vec_in\n",
        "    return (-alpha1*(h1**0.5) + q1)/A1"
      ],
      "metadata": {
        "id": "hS0Vy2fEn3ZV"
      },
      "execution_count": 13,
      "outputs": []
    },
    {
      "cell_type": "code",
      "source": [
        "rhs(0., jnp.array([1.]), vec_in)"
      ],
      "metadata": {
        "colab": {
          "base_uri": "https://localhost:8080/"
        },
        "id": "gIKJbeUCrGAh",
        "outputId": "81d2ad36-56b3-498e-b47e-7290fd0cd50c"
      },
      "execution_count": 14,
      "outputs": [
        {
          "output_type": "execute_result",
          "data": {
            "text/plain": [
              "Array([-0.15], dtype=float64)"
            ]
          },
          "metadata": {},
          "execution_count": 14
        }
      ]
    },
    {
      "cell_type": "code",
      "source": [
        "res=root(lambda vec_out: rhs(0., vec_out, vec_in), jnp.array([1.]))\n",
        "vec_out_ss = res.x"
      ],
      "metadata": {
        "id": "Fvd6hNkbpoTy"
      },
      "execution_count": 17,
      "outputs": []
    },
    {
      "cell_type": "code",
      "source": [
        "drhs_dout = jax.jacobian(rhs, 1)\n",
        "drhs_din = jax.jacobian(rhs, 2)"
      ],
      "metadata": {
        "id": "qc77NntoqZL_"
      },
      "execution_count": 23,
      "outputs": []
    },
    {
      "cell_type": "code",
      "source": [
        "drhs_dout(0., vec_out_ss, vec_in)"
      ],
      "metadata": {
        "colab": {
          "base_uri": "https://localhost:8080/"
        },
        "id": "2905RxSstetl",
        "outputId": "551754d7-a35a-413e-ae82-5578a4b48f49"
      },
      "execution_count": 22,
      "outputs": [
        {
          "output_type": "execute_result",
          "data": {
            "text/plain": [
              "Array([[-0.46875]], dtype=float64)"
            ]
          },
          "metadata": {},
          "execution_count": 22
        }
      ]
    },
    {
      "cell_type": "code",
      "source": [
        "drhs_din(0., vec_out_ss, vec_in)"
      ],
      "metadata": {
        "colab": {
          "base_uri": "https://localhost:8080/"
        },
        "id": "WAuJBsF7tx5j",
        "outputId": "812c7e84-0ed2-4c98-c9c3-1cd84a1cf17a"
      },
      "execution_count": 24,
      "outputs": [
        {
          "output_type": "execute_result",
          "data": {
            "text/plain": [
              "Array([[0.5]], dtype=float64)"
            ]
          },
          "metadata": {},
          "execution_count": 24
        }
      ]
    },
    {
      "cell_type": "code",
      "source": [],
      "metadata": {
        "id": "jgp20NiQwwa7"
      },
      "execution_count": null,
      "outputs": []
    }
  ]
}