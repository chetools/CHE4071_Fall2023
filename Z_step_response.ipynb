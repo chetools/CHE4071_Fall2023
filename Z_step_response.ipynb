{
  "nbformat": 4,
  "nbformat_minor": 0,
  "metadata": {
    "colab": {
      "provenance": [],
      "authorship_tag": "ABX9TyMvbYARyc/8ETwXaSvi5pZG",
      "include_colab_link": true
    },
    "kernelspec": {
      "name": "python3",
      "display_name": "Python 3"
    },
    "language_info": {
      "name": "python"
    }
  },
  "cells": [
    {
      "cell_type": "markdown",
      "metadata": {
        "id": "view-in-github",
        "colab_type": "text"
      },
      "source": [
        "<a href=\"https://colab.research.google.com/github/profteachkids/CHE4071_Fall2023/blob/main/Z_step_response.ipynb\" target=\"_parent\"><img src=\"https://colab.research.google.com/assets/colab-badge.svg\" alt=\"Open In Colab\"/></a>"
      ]
    },
    {
      "cell_type": "code",
      "execution_count": 1,
      "metadata": {
        "id": "ZgifnCb7xRm-"
      },
      "outputs": [],
      "source": [
        "import numpy.polynomial as P\n",
        "import numpy as np"
      ]
    },
    {
      "cell_type": "code",
      "source": [
        "n=np.array([1.264])\n",
        "d=np.array([1, -1.368, 0.368,])"
      ],
      "metadata": {
        "id": "0bIT343FxXo5"
      },
      "execution_count": 66,
      "outputs": []
    },
    {
      "cell_type": "code",
      "source": [
        "def div(n,d):\n",
        "    q = n[0]/d[0]\n",
        "    return q, n[1:]-q*d[1:]"
      ],
      "metadata": {
        "id": "YYvdxwCjxxVA"
      },
      "execution_count": 55,
      "outputs": []
    },
    {
      "cell_type": "code",
      "source": [
        "\n",
        "def response(n,d, t):\n",
        "    qs=[]\n",
        "    nn=n.copy()\n",
        "    for i in range(t):\n",
        "        nn.resize(len(d),refcheck=False)\n",
        "        q,r=div(nn,d)\n",
        "        qs.append(q)\n",
        "        nn=r\n",
        "    return np.array(qs)"
      ],
      "metadata": {
        "id": "i35mNndczlhm"
      },
      "execution_count": 80,
      "outputs": []
    },
    {
      "cell_type": "code",
      "source": [
        "response(n,d,10)"
      ],
      "metadata": {
        "colab": {
          "base_uri": "https://localhost:8080/"
        },
        "id": "jHmE1BcAzvP3",
        "outputId": "a3e2a533-bfcf-4c14-d828-8644866a5837"
      },
      "execution_count": 81,
      "outputs": [
        {
          "output_type": "execute_result",
          "data": {
            "text/plain": [
              "array([1.264     , 1.729152  , 1.90032794, 1.96332068, 1.98650201,\n",
              "       1.99503274, 1.99817205, 1.99932731, 1.99975245, 1.9999089 ])"
            ]
          },
          "metadata": {},
          "execution_count": 81
        }
      ]
    },
    {
      "cell_type": "code",
      "source": [],
      "metadata": {
        "id": "Tf7PSdCM0MhG"
      },
      "execution_count": null,
      "outputs": []
    }
  ]
}