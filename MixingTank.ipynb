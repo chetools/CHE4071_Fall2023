{
  "nbformat": 4,
  "nbformat_minor": 0,
  "metadata": {
    "colab": {
      "provenance": [],
      "authorship_tag": "ABX9TyNLdsjg6LEzMt1qWYQmWxze",
      "include_colab_link": true
    },
    "kernelspec": {
      "name": "python3",
      "display_name": "Python 3"
    },
    "language_info": {
      "name": "python"
    }
  },
  "cells": [
    {
      "cell_type": "markdown",
      "metadata": {
        "id": "view-in-github",
        "colab_type": "text"
      },
      "source": [
        "<a href=\"https://colab.research.google.com/github/profteachkids/CHE4071_Fall2023/blob/main/MixingTank.ipynb\" target=\"_parent\"><img src=\"https://colab.research.google.com/assets/colab-badge.svg\" alt=\"Open In Colab\"/></a>"
      ]
    },
    {
      "cell_type": "code",
      "execution_count": 1,
      "metadata": {
        "id": "XhQ3QBoj0oE3"
      },
      "outputs": [],
      "source": [
        "import numpy as np\n",
        "from plotly.subplots import make_subplots\n",
        "from scipy.integrate import solve_ivp"
      ]
    },
    {
      "cell_type": "code",
      "source": [
        "g=9.81 #m/s2\n",
        "Tin0 = np.array([80, 65, 90])\n",
        "Ca_in0 = np.array([0, 1, 0.5])\n",
        "qin0 = np.array([0.5, 0.3, 0.6])\n",
        "ahole = 0.01  #m2\n",
        "Ac = 1. #m2\n"
      ],
      "metadata": {
        "id": "ay_HoPF7FUWi"
      },
      "execution_count": 4,
      "outputs": []
    },
    {
      "cell_type": "code",
      "source": [
        "def rhs(t,v, qin, Ca_in, Tin):\n",
        "    h, Ca, T = v\n",
        "    qout = ahole * ((2*g*h)**0.5)\n",
        "    dhdt = (np.sum(qin)- qout)/Ac\n",
        "    dCadt =((np.sum(qin*Ca_in)-qout*Ca)/Ac - Ca*dhdt)/h\n",
        "    dTdt = ((np.sum(qin*Tin)-qout*T)/Ac - T*dhdt)/h\n",
        "    return np.array([dhdt, dCadt, dTdt])"
      ],
      "metadata": {
        "id": "GNX7QVpEGWzE"
      },
      "execution_count": 8,
      "outputs": []
    },
    {
      "cell_type": "code",
      "source": [
        "ss_eq = lambda v: rhs(0., v, )"
      ],
      "metadata": {
        "id": "AGlLZ7yEJXfK"
      },
      "execution_count": null,
      "outputs": []
    },
    {
      "cell_type": "code",
      "source": [
        "fig=make_subplots()\n",
        "fig.add_scatter(x=tplot,y=h)\n",
        "fig.update_layout(width=600,height=400,template='plotly_dark')"
      ],
      "metadata": {
        "id": "TCVAvtUYFRfI"
      },
      "execution_count": null,
      "outputs": []
    }
  ]
}