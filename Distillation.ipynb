{
  "nbformat": 4,
  "nbformat_minor": 0,
  "metadata": {
    "colab": {
      "provenance": [],
      "authorship_tag": "ABX9TyMdrje3DataRm9xNrNYvV+e",
      "include_colab_link": true
    },
    "kernelspec": {
      "name": "python3",
      "display_name": "Python 3"
    },
    "language_info": {
      "name": "python"
    }
  },
  "cells": [
    {
      "cell_type": "markdown",
      "metadata": {
        "id": "view-in-github",
        "colab_type": "text"
      },
      "source": [
        "<a href=\"https://colab.research.google.com/github/profteachkids/CHE4071_Fall2023/blob/main/Distillation.ipynb\" target=\"_parent\"><img src=\"https://colab.research.google.com/assets/colab-badge.svg\" alt=\"Open In Colab\"/></a>"
      ]
    },
    {
      "cell_type": "code",
      "execution_count": 2,
      "metadata": {
        "id": "ifTGpHWia4gq"
      },
      "outputs": [],
      "source": [
        "import numpy as np\n",
        "from scipy.integrate import solve_ivp"
      ]
    },
    {
      "cell_type": "code",
      "source": [
        "NT=5\n",
        "\n",
        "F = 1. #mol/s\n",
        "zF = 0.5 #mol fraction\n",
        "\n",
        "D = 0.55\n",
        "\n",
        "m_tray = 0.5  #mol on a tray without overflow\n",
        "\n",
        "x"
      ],
      "metadata": {
        "id": "cZ_4hZ5Od3-s"
      },
      "execution_count": 3,
      "outputs": []
    },
    {
      "cell_type": "code",
      "source": [
        "# total moles on a tray\n",
        "dmdt ="
      ],
      "metadata": {
        "id": "fsB8KZwpidI5"
      },
      "execution_count": null,
      "outputs": []
    }
  ]
}